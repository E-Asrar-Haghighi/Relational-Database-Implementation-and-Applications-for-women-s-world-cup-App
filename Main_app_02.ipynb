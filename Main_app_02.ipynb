{
 "cells": [
  {
   "cell_type": "code",
   "execution_count": 1,
   "id": "0476faa2",
   "metadata": {},
   "outputs": [],
   "source": [
    "import tkinter as tk\n",
    "from PIL import Image, ImageTk\n",
    "import os\n",
    "import subprocess\n",
    "\n",
    "def launch_program1():\n",
    "    program_path = r\"C:\\Users\\lasra\\Desktop\\Illinos Tech Courses\\CS727-Relational Database Design\\DEL 5 - 2\\D5\\Final - 02\\For_Data_Team_03.py\"\n",
    "    try:\n",
    "        subprocess.run([\"python\", program_path], check=True)\n",
    "    except subprocess.CalledProcessError as e:\n",
    "        print(f\"Error executing command: {e}\")\n",
    "\n",
    "def launch_program2():\n",
    "    program_path = r\"C:\\Users\\lasra\\Desktop\\Illinos Tech Courses\\CS727-Relational Database Design\\DEL 5 - 2\\D5\\Final - 02\\For_Sponsors_05.py\"\n",
    "    try:\n",
    "        subprocess.run([\"python\", program_path], check=True)\n",
    "    except subprocess.CalledProcessError as e:\n",
    "        print(f\"Error executing command: {e}\")\n",
    "\n",
    "def launch_program3():\n",
    "    program_path = r\"C:\\Users\\lasra\\Desktop\\Illinos Tech Courses\\CS727-Relational Database Design\\DEL 5 - 2\\D5\\Final - 02\\For_Reporters_04.py\"\n",
    "    try:\n",
    "        subprocess.run([\"python\", program_path], check=True)\n",
    "    except subprocess.CalledProcessError as e:\n",
    "        print(f\"Error executing command: {e}\")\n",
    "\n",
    "root = tk.Tk()\n",
    "root.title(\"Women's World Cup 2023 Database\")\n",
    "\n",
    "# Create a canvas\n",
    "canvas = tk.Canvas(root, width=1300, height=800)\n",
    "canvas.pack(fill=tk.BOTH, expand=True)\n",
    "\n",
    "# Load the background image\n",
    "background_image_path = r\"C:\\Users\\lasra\\Desktop\\Illinos Tech Courses\\CS727-Relational Database Design\\DEL 5 - 2\\D5\\Final - 02\\WC_23_Final.jpg\"\n",
    "\n",
    "if not os.path.exists(background_image_path):\n",
    "    messagebox.showerror(\"Error\", f\"Image file not found: {background_image_path}\")\n",
    "    root.destroy()\n",
    "else:\n",
    "    background_image = Image.open(background_image_path)\n",
    "    background_image = background_image.resize((1300, 800), Image.LANCZOS)\n",
    "    background_photo = ImageTk.PhotoImage(background_image)\n",
    "    canvas.create_image(0, 0, image=background_photo, anchor=tk.NW)\n",
    "\n",
    "# Create buttons and add them to the canvas\n",
    "program1_btn = tk.Button(canvas, text=\"For Data Team CRUD Operations\", command=launch_program1)\n",
    "program1_btn_window = canvas.create_window(350, 10, anchor=tk.NW, window=program1_btn)\n",
    "\n",
    "program2_btn = tk.Button(canvas, text=\"Analytics for the Sponsors\", command=launch_program2)\n",
    "program2_btn_window = canvas.create_window(350, 60, anchor=tk.NW, window=program2_btn)\n",
    "\n",
    "program3_btn = tk.Button(canvas, text=\"Analytics for the Reporters\", command=launch_program3)\n",
    "program3_btn_window = canvas.create_window(350, 110, anchor=tk.NW, window=program3_btn)\n",
    "\n",
    "root.mainloop()\n"
   ]
  },
  {
   "cell_type": "code",
   "execution_count": null,
   "id": "8f7129cb",
   "metadata": {},
   "outputs": [],
   "source": []
  },
  {
   "cell_type": "code",
   "execution_count": null,
   "id": "2a5bfbb7",
   "metadata": {},
   "outputs": [],
   "source": []
  }
 ],
 "metadata": {
  "kernelspec": {
   "display_name": "Python 3 (ipykernel)",
   "language": "python",
   "name": "python3"
  },
  "language_info": {
   "codemirror_mode": {
    "name": "ipython",
    "version": 3
   },
   "file_extension": ".py",
   "mimetype": "text/x-python",
   "name": "python",
   "nbconvert_exporter": "python",
   "pygments_lexer": "ipython3",
   "version": "3.10.12"
  },
  "vp": {
   "vp_config_version": "1.0.0",
   "vp_menu_width": 273,
   "vp_note_display": false,
   "vp_note_width": 0,
   "vp_position": {
    "width": 278
   },
   "vp_section_display": false,
   "vp_signature": "VisualPython"
  }
 },
 "nbformat": 4,
 "nbformat_minor": 5
}
